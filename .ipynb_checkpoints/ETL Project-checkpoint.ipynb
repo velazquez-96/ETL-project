{
 "cells": [
  {
   "cell_type": "markdown",
   "metadata": {},
   "source": [
    "# Extract Data"
   ]
  },
  {
   "cell_type": "code",
   "execution_count": 1,
   "metadata": {},
   "outputs": [],
   "source": [
    "import requests\n",
    "import pandas as pd\n",
    "\n",
    "url = \"https://coronavirus-monitor.p.rapidapi.com/coronavirus/cases_by_country.php\"\n",
    "\n",
    "headers = {\n",
    "    'x-rapidapi-host': \"coronavirus-monitor.p.rapidapi.com\",\n",
    "    'x-rapidapi-key': \"751cbc0389msh822737a2387ac7ep15ba03jsn644583210572\"\n",
    "    }\n",
    "\n",
    "response = requests.request(\"GET\", url, headers=headers).json()"
   ]
  },
  {
   "cell_type": "code",
   "execution_count": 2,
   "metadata": {},
   "outputs": [],
   "source": [
    "countries=[]\n",
    "for x in range(214):\n",
    "    countries.append(f\"{response['countries_stat'][x]['country_name']} {x}\")"
   ]
  },
  {
   "cell_type": "code",
   "execution_count": 3,
   "metadata": {},
   "outputs": [],
   "source": [
    "countries.sort()"
   ]
  },
  {
   "cell_type": "code",
   "execution_count": 4,
   "metadata": {},
   "outputs": [],
   "source": [
    "#countries"
   ]
  },
  {
   "cell_type": "markdown",
   "metadata": {},
   "source": [
    "# Transform Data"
   ]
  },
  {
   "cell_type": "markdown",
   "metadata": {},
   "source": [
    "## G7"
   ]
  },
  {
   "cell_type": "code",
   "execution_count": 5,
   "metadata": {},
   "outputs": [],
   "source": [
    "g7 = [17,14,10,7,49,0,4]"
   ]
  },
  {
   "cell_type": "code",
   "execution_count": 6,
   "metadata": {},
   "outputs": [],
   "source": [
    "g7_countries=[]\n",
    "for x in g7:\n",
    "    g7_countries.append(response['countries_stat'][x])\n",
    "    "
   ]
  },
  {
   "cell_type": "markdown",
   "metadata": {},
   "source": [
    "## G20"
   ]
  },
  {
   "cell_type": "code",
   "execution_count": 7,
   "metadata": {},
   "outputs": [],
   "source": [
    "g20 = [32,50,1,17,14,10,3,28,7,49,56,13,2,15,19,11,4,0,50,20,85,95,123,61,55,98,69,87,83,40,120,106,82,136,24,35,30,42,109,110,5,23]"
   ]
  },
  {
   "cell_type": "code",
   "execution_count": 8,
   "metadata": {},
   "outputs": [],
   "source": [
    "g20_countries=[]\n",
    "for x in g20:\n",
    "    g20_countries.append(response['countries_stat'][x])"
   ]
  },
  {
   "cell_type": "markdown",
   "metadata": {},
   "source": [
    "## Europe"
   ]
  },
  {
   "cell_type": "code",
   "execution_count": null,
   "metadata": {},
   "outputs": [],
   "source": [
    "#Get table with the European countries\n",
    "europe_table = pd.read_html(\"https://en.wikipedia.org/wiki/List_of_European_countries_by_area\")\n",
    "#Substract the names\n",
    "country_list = []\n",
    "for country in europe_table[0][\"State\"]:\n",
    "    clean_country = country.replace(\"*\",\"\")\n",
    "    country_list.append(clean_country)\n",
    "    \n",
    "country_list.remove(\"United Kingdom\")\n",
    "country_list.append(\"UK\")\n",
    "#Retrieve the no. of country members\n",
    "len(country_list)\n",
    "#Create a new list with the European countries' info\n",
    "europe_list = []\n",
    "for country in response[\"countries_stat\"]:\n",
    "    if country[\"country_name\"] in country_list:\n",
    "        europe_list.append(country)\n",
    "        country_list.remove(country[\"country_name\"])\n",
    "#Retrieve the no. of countries added to the list\n",
    "print(f\"{len(europe_list)} countries were added\")\n",
    "print(f\"Missing countries: {country_list}\")"
   ]
  },
  {
   "cell_type": "markdown",
   "metadata": {},
   "source": [
    "## Africa"
   ]
  },
  {
   "cell_type": "code",
   "execution_count": null,
   "metadata": {},
   "outputs": [],
   "source": [
    "##Africa\n",
    "url = \"https://www.worldometers.info/geography/how-many-countries-in-africa/\"\n",
    "response_1 = requests.get(url)\n",
    "table1 = pd.read_html(response_1.text)\n",
    "africa_table = table1[0]\n",
    "africa_table = africa_table[['Country', 'Subregion']]\n",
    "africa_table.sort_values(by=['Country']).reset_index(drop=True)\n",
    "for index,row in africa_table.iterrows():\n",
    "    if row['Country'] == 'Central African Republic':\n",
    "        row['Country'] = 'CAR'\n",
    "    elif row['Country'] == 'DR Congo':\n",
    "        row['Country'] = 'DRC'\n",
    "    elif row['Country'] == 'Sao Tome & Principe':\n",
    "        row['Country'] = 'Sao Tome and Principe'\n",
    "africa_array = africa_table['Country'].to_list()\n",
    "Africa = []\n",
    "for item in response['countries_stat']:\n",
    "    name = item['country_name']\n",
    "    if name in africa_array:\n",
    "        Africa.append(item)"
   ]
  },
  {
   "cell_type": "markdown",
   "metadata": {},
   "source": [
    "## Asia"
   ]
  },
  {
   "cell_type": "code",
   "execution_count": null,
   "metadata": {},
   "outputs": [],
   "source": [
    "##Asia\n",
    "url = \"https://www.worldometers.info/geography/how-many-countries-in-asia/\"\n",
    "response_2 = requests.get(url)\n",
    "tables = pd.read_html(response_2.text)\n",
    "asia_table = tables[0]\n",
    "asia_table = asia_table[['Country', 'Subregion']]\n",
    "asia_table.sort_values(by=['Country']).reset_index(drop=True)\n",
    "for index,row in asia_table.iterrows():\n",
    "    if row['Country'] == 'United Arab Emirates':\n",
    "        row['Country'] = 'UAE'\n",
    "    elif row['Country'] == 'State of Palestine':\n",
    "        row['Country'] = 'Palestine'\n",
    "asia_array = asia_table['Country'].to_list()\n",
    "Asia = []\n",
    "for record in response['countries_stat']:\n",
    "    name = record['country_name']\n",
    "    if name in asia_array :\n",
    "        Asia.append(record)"
   ]
  },
  {
   "cell_type": "markdown",
   "metadata": {},
   "source": [
    "## America"
   ]
  },
  {
   "cell_type": "code",
   "execution_count": null,
   "metadata": {},
   "outputs": [],
   "source": [
    "North_America = [0, 13, 17]\n",
    "North_America_Countries = []\n",
    "for x in North_America:\n",
    "    North_America_Countries.append(response['countries_stat'][x])\n",
    "Central_America = [192, 100, 81, 59, 60, 103, 43]\n",
    "Central_America_countries = []\n",
    "for x in Central_America:\n",
    "    Central_America_countries.append(response['countries_stat'][x])\n",
    "El_Caribe = [95, 75, 139, 41]\n",
    "El_Caribe_countries = []\n",
    "for x in El_Caribe:\n",
    "    El_Caribe_countries.append(response['countries_stat'][x])\n",
    "South_America = [32, 44, 1, 8, 21, 26, 164, 116, 6, 156, 172, 130, 86, 107]\n",
    "South_America_countries = []\n",
    "for x in South_America:\n",
    "    South_America_countries.append(response['countries_stat'][x])"
   ]
  },
  {
   "cell_type": "markdown",
   "metadata": {},
   "source": [
    "# Transform"
   ]
  },
  {
   "cell_type": "code",
   "execution_count": null,
   "metadata": {},
   "outputs": [],
   "source": [
    "def replace(region_list):\n",
    "    for country in region_list:\n",
    "        for key,value in country.items():\n",
    "            try:\n",
    "                new_val = value.replace(\",\", \"\")\n",
    "                f_value = int(new_val)\n",
    "                country[key] = f_value\n",
    "            except:\n",
    "                continue\n",
    "    return region_list"
   ]
  },
  {
   "cell_type": "code",
   "execution_count": null,
   "metadata": {},
   "outputs": [],
   "source": [
    "replace(g7_countries)"
   ]
  },
  {
   "cell_type": "code",
   "execution_count": null,
   "metadata": {},
   "outputs": [],
   "source": [
    "replace(g20_countries)"
   ]
  },
  {
   "cell_type": "code",
   "execution_count": null,
   "metadata": {},
   "outputs": [],
   "source": [
    "replace(europe_list)"
   ]
  },
  {
   "cell_type": "code",
   "execution_count": null,
   "metadata": {},
   "outputs": [],
   "source": [
    "replace(Africa)"
   ]
  },
  {
   "cell_type": "code",
   "execution_count": null,
   "metadata": {},
   "outputs": [],
   "source": [
    "replace(Asia)"
   ]
  },
  {
   "cell_type": "code",
   "execution_count": null,
   "metadata": {},
   "outputs": [],
   "source": [
    "replace(North_America_Countries)"
   ]
  },
  {
   "cell_type": "code",
   "execution_count": null,
   "metadata": {},
   "outputs": [],
   "source": [
    "replace(Central_America_countries)"
   ]
  },
  {
   "cell_type": "code",
   "execution_count": null,
   "metadata": {},
   "outputs": [],
   "source": [
    "replace(El_Caribe_countries)"
   ]
  },
  {
   "cell_type": "code",
   "execution_count": null,
   "metadata": {},
   "outputs": [],
   "source": [
    "replace(South_America_countries)"
   ]
  },
  {
   "cell_type": "code",
   "execution_count": null,
   "metadata": {},
   "outputs": [],
   "source": [
    "    results={\n",
    "    'G7': g7_countries,\n",
    "    'G20': g20_countries,\n",
    "    'Europe': europe_list,\n",
    "    'Africa': Africa,\n",
    "    'Asia': Asia,\n",
    "    'North America': North_America_Countries,\n",
    "    'Central America': Central_America_countries,\n",
    "    'El Caribe': El_Caribe_countries,\n",
    "    'South America': South_America_countries\n",
    " }"
   ]
  },
  {
   "cell_type": "code",
   "execution_count": null,
   "metadata": {},
   "outputs": [],
   "source": [
    "results"
   ]
  },
  {
   "cell_type": "markdown",
   "metadata": {},
   "source": [
    "# Upload to Mongo db"
   ]
  },
  {
   "cell_type": "code",
   "execution_count": null,
   "metadata": {},
   "outputs": [],
   "source": [
    "import pymongo"
   ]
  },
  {
   "cell_type": "code",
   "execution_count": null,
   "metadata": {},
   "outputs": [],
   "source": [
    "conn = 'mongodb://localhost:27017'\n",
    "client = pymongo.MongoClient(conn)"
   ]
  },
  {
   "cell_type": "code",
   "execution_count": null,
   "metadata": {},
   "outputs": [],
   "source": [
    "db = client.covid_db"
   ]
  },
  {
   "cell_type": "markdown",
   "metadata": {},
   "source": [
    "## First Query Method (Single update, Pandas decoding)"
   ]
  },
  {
   "cell_type": "code",
   "execution_count": null,
   "metadata": {},
   "outputs": [],
   "source": [
    "collection0= db.results\n",
    "covid = db.covid"
   ]
  },
  {
   "cell_type": "code",
   "execution_count": null,
   "metadata": {},
   "outputs": [],
   "source": [
    "covid.update({}, results, upsert=True)"
   ]
  },
  {
   "cell_type": "code",
   "execution_count": null,
   "metadata": {},
   "outputs": [],
   "source": [
    "for i in covid.find():\n",
    "    G7 = i['G7']\n",
    "    G20 = i['G20']"
   ]
  },
  {
   "cell_type": "code",
   "execution_count": null,
   "metadata": {},
   "outputs": [],
   "source": [
    "G7 = pd.DataFrame(G7)"
   ]
  },
  {
   "cell_type": "code",
   "execution_count": null,
   "metadata": {},
   "outputs": [],
   "source": [
    "G7.loc[G7['cases']>1000]"
   ]
  },
  {
   "cell_type": "markdown",
   "metadata": {},
   "source": [
    "## Second Query Method (Individual updates, Pymongo decoding)"
   ]
  },
  {
   "cell_type": "code",
   "execution_count": null,
   "metadata": {},
   "outputs": [],
   "source": [
    "collection1 = db.Africa\n",
    "for x in Africa:\n",
    "    collection1.insert_one(x)"
   ]
  },
  {
   "cell_type": "code",
   "execution_count": null,
   "metadata": {},
   "outputs": [],
   "source": [
    "collection2 = db.Asia\n",
    "for x in Asia:\n",
    "    collection2.insert_one(x)"
   ]
  },
  {
   "cell_type": "code",
   "execution_count": null,
   "metadata": {},
   "outputs": [],
   "source": [
    "query = db.Africa.find({ \"cases\": { \"$gt\": 10000 } })\n",
    "for x in query:\n",
    "    print(x)"
   ]
  },
  {
   "cell_type": "code",
   "execution_count": null,
   "metadata": {},
   "outputs": [],
   "source": [
    "query = db.Asia.find({ \"cases\": { \"$gt\": 10000 } })\n",
    "for x in query:\n",
    "    print(x)"
   ]
  }
 ],
 "metadata": {
  "kernelspec": {
   "display_name": "Python 3",
   "language": "python",
   "name": "python3"
  },
  "language_info": {
   "codemirror_mode": {
    "name": "ipython",
    "version": 3
   },
   "file_extension": ".py",
   "mimetype": "text/x-python",
   "name": "python",
   "nbconvert_exporter": "python",
   "pygments_lexer": "ipython3",
   "version": "3.7.6"
  }
 },
 "nbformat": 4,
 "nbformat_minor": 2
}
